{
 "cells": [
  {
   "cell_type": "code",
   "execution_count": 13,
   "metadata": {},
   "outputs": [],
   "source": [
    "import itertools"
   ]
  },
  {
   "cell_type": "markdown",
   "metadata": {},
   "source": [
    "#### 1. Map, Lambda, Enumurate, Sorted, Count"
   ]
  },
  {
   "cell_type": "code",
   "execution_count": 17,
   "metadata": {},
   "outputs": [
    {
     "name": "stdout",
     "output_type": "stream",
     "text": [
      "('SENTENCE', 'FRAGMENT')\n",
      "['SENTENCE', 'FRAGMENT']\n",
      "[0, 2, 4, 6, 8]\n",
      "['SENTENCE', 'FRAGMENT']\n",
      "(0, 'subject')\n",
      "(1, 'verb')\n",
      "(2, 'object')\n",
      "[2, 3, 5, 5, 7, 7, 8, 76]\n",
      "[76, 8, 7, 7, 5, 5, 3, 2]\n",
      "10\n",
      "15\n"
     ]
    }
   ],
   "source": [
    "def my_upper(s):\n",
    "    return s.upper()\n",
    "\n",
    "my_upper_lambda = lambda x: x.upper() # same as my_upper as lambda function\n",
    "\n",
    "print(tuple(map(my_upper_lambda, ['sentence', 'fragment']))) # Convert Upper Case all elemnts of list (as tuple)\n",
    "print(list(map(my_upper_lambda, ['sentence', 'fragment']))) # Convert Upper Case all elemnts of list (as list)\n",
    "\n",
    "print(list(filter(lambda x: x%2 == 0, range(10)))) # Find Even Numbers in range\n",
    "\n",
    "print([my_upper(s) for s in ['sentence', 'fragment']]) # Convert all characters to upper case in list\n",
    "\n",
    "for item in enumerate(['subject', 'verb', 'object']): # Indexed loop\n",
    "    print(item)\n",
    "    \n",
    "data_for_sort = [3,5,2,5,76,7,8,7]\n",
    "\n",
    "print(sorted(data_for_sort)) # Sort\n",
    "print(sorted(data_for_sort,reverse=True)) # Sort as Revers\n"
   ]
  },
  {
   "cell_type": "markdown",
   "metadata": {},
   "source": [
    "#### 2. Itertools Built-in functions"
   ]
  },
  {
   "cell_type": "code",
   "execution_count": 33,
   "metadata": {},
   "outputs": [
    {
     "name": "stdout",
     "output_type": "stream",
     "text": [
      "10\n",
      "15\n",
      "=================\n",
      "1\n",
      "2\n",
      "1\n",
      "=================\n",
      "abc\n",
      "('abc', 'abc', 'abc', 'abc')\n",
      "=================\n"
     ]
    }
   ],
   "source": [
    "# count usage example --> itertools.count(sequence)\n",
    "iter_count = itertools.count(10,5) # Start: 10 every_iteration: +5 (infinite generator)\n",
    "\n",
    "print(next(iter_count)) # 10\n",
    "print(next(iter_count)) # 15\n",
    "print(\"=================\")\n",
    "\n",
    "# cycle usage example itertools.cycle(sequence)\n",
    "my_list = [1,2] # 1,2,1,2,1 ... (create an infinite cycle)\n",
    "iter_cycle = itertools.cycle(my_list)\n",
    "\n",
    "print(next(iter_cycle)) # 1\n",
    "print(next(iter_cycle)) # 2\n",
    "print(next(iter_cycle))\n",
    "print(\"=================\")\n",
    "\n",
    "# repeat usage example --> itertools.repeat(elem, [n])\n",
    "iter_repeat = itertools.repeat('abc', 5)\n",
    "print(next(iter_repeat))\n",
    "t = tuple(iter_repeat) # unpacking\n",
    "print(t) \n",
    "print(\"=================\")\n"
   ]
  }
 ],
 "metadata": {
  "kernelspec": {
   "display_name": "Python 3.10.6 64-bit",
   "language": "python",
   "name": "python3"
  },
  "language_info": {
   "codemirror_mode": {
    "name": "ipython",
    "version": 3
   },
   "file_extension": ".py",
   "mimetype": "text/x-python",
   "name": "python",
   "nbconvert_exporter": "python",
   "pygments_lexer": "ipython3",
   "version": "3.10.6"
  },
  "orig_nbformat": 4,
  "vscode": {
   "interpreter": {
    "hash": "916dbcbb3f70747c44a77c7bcd40155683ae19c65e1c03b4aa3499c5328201f1"
   }
  }
 },
 "nbformat": 4,
 "nbformat_minor": 2
}
