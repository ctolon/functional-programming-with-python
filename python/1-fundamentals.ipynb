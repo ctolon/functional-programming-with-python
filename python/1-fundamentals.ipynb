{
 "cells": [
  {
   "cell_type": "markdown",
   "metadata": {},
   "source": [
    "### All libs may we need"
   ]
  },
  {
   "cell_type": "code",
   "execution_count": 18,
   "metadata": {},
   "outputs": [],
   "source": [
    "import itertools"
   ]
  },
  {
   "cell_type": "code",
   "execution_count": 19,
   "metadata": {},
   "outputs": [],
   "source": [
    "my_list_3 = [3,6,9]\n",
    "my_list_4 = [3,6,9]"
   ]
  },
  {
   "cell_type": "markdown",
   "metadata": {},
   "source": [
    "#### 1. Basic Iterator Usage"
   ]
  },
  {
   "cell_type": "code",
   "execution_count": 20,
   "metadata": {},
   "outputs": [
    {
     "name": "stdout",
     "output_type": "stream",
     "text": [
      "for loop with iter Section\n",
      "next iter = 10\n",
      "next iter = 20\n",
      "next iter = 30\n",
      "next iter = 40\n",
      "next iter = 50\n",
      "=================\n"
     ]
    }
   ],
   "source": [
    "my_list_2 = [10,20,30,40,50] # Example List\n",
    "print(\"for loop with iter Section\")\n",
    "for i in iter(my_list_2):\n",
    "    print(\"next iter =\", i)\n",
    "print(\"=================\")\n"
   ]
  },
  {
   "cell_type": "markdown",
   "metadata": {},
   "source": [
    "#### 2. Iterators with lazy evaluation"
   ]
  },
  {
   "cell_type": "code",
   "execution_count": 28,
   "metadata": {},
   "outputs": [
    {
     "name": "stdout",
     "output_type": "stream",
     "text": [
      "Value:  2\n"
     ]
    }
   ],
   "source": [
    "my_list = [1,2,3,4,5] \n",
    "iterator = iter(my_list) # Iterator defination\n",
    "\n",
    "# They are exactly same (__next_- and next(arg))\n",
    "iterator.__next__  # Output --> 1\n",
    "next(iterator) # Output --> 2\n",
    "\n",
    "# Print 2. iter value\n",
    "print(\"Value: \",  next(iterator)) # print --> 2\n"
   ]
  },
  {
   "cell_type": "markdown",
   "metadata": {},
   "source": [
    "#### 3. Iterators with eager evalutation"
   ]
  },
  {
   "cell_type": "code",
   "execution_count": 29,
   "metadata": {},
   "outputs": [
    {
     "name": "stdout",
     "output_type": "stream",
     "text": [
      "(3, 4, 5)\n",
      "{'Italy': 'Rome', 'France': 'Paris', 'US': 'Washington DC'}\n"
     ]
    }
   ],
   "source": [
    "# We can unpack all variables with convert iterator to tpule\n",
    "t = tuple(iterator) # get next iters\n",
    "print(t) # --> print next iters\n",
    "\n",
    "# Also we can packing tuples as dict with iterators\n",
    "L = [('Italy', 'Rome'), ('France', 'Paris'), ('US', 'Washington DC')]\n",
    "print(dict(iter(L)))"
   ]
  },
  {
   "cell_type": "markdown",
   "metadata": {},
   "source": [
    "#### 4. Generator expressions and list comprehensions"
   ]
  },
  {
   "cell_type": "code",
   "execution_count": 30,
   "metadata": {},
   "outputs": [
    {
     "name": "stdout",
     "output_type": "stream",
     "text": [
      "<generator object <genexpr> at 0x7fb25fd2b140>\n",
      "line 1\n",
      "['line 1', 'line 2', '', '']\n",
      "['line 1', 'line 2', '']\n"
     ]
    }
   ],
   "source": [
    "line_list = ['  line 1\\n', 'line 2  \\n', ' \\n', '']\n",
    "\n",
    "# Usage: Operation, iterator, Data, condition(optional)\n",
    "# Generator expression -- returns iterator\n",
    "stripped_iter = (line.strip() for line in line_list)\n",
    "print(stripped_iter)\n",
    "print(next(stripped_iter))\n",
    "\n",
    "# List comprehension -- returns list\n",
    "stripped_list = [line.strip() for line in line_list]\n",
    "stripped_list_2 = [line.strip() for line in line_list if line != \"\"]\n",
    "print(stripped_list)\n",
    "print(stripped_list_2)"
   ]
  },
  {
   "cell_type": "markdown",
   "metadata": {},
   "source": [
    "#### 5. Create dict with iterators"
   ]
  },
  {
   "cell_type": "code",
   "execution_count": 32,
   "metadata": {},
   "outputs": [
    {
     "name": "stdout",
     "output_type": "stream",
     "text": [
      "zip iterator =  <zip object at 0x7fb280405700>\n",
      "[('a', 1), ('b', 2), ('c', 3)]\n",
      "[('a', 1), ('a', 2), ('a', 3), ('b', 1), ('b', 2), ('b', 3), ('c', 1), ('c', 2), ('c', 3)]\n"
     ]
    }
   ],
   "source": [
    "seq1 = 'abc'\n",
    "seq2 = (1, 2, 3)\n",
    "seqTotal = [(x, y) for x in seq1 for y in seq2] \n",
    "\n",
    "zipIterator = zip(seq1,seq2) # zip iterator\n",
    "print(\"zip iterator = \", zipIterator) # Generator Object\n",
    "print(list(zipIterator)) # indexing as 0,0 1,1 2,2 ..\n",
    "print(seqTotal) # x,y combinations may we write"
   ]
  },
  {
   "cell_type": "markdown",
   "metadata": {},
   "source": [
    "#### 6. Create generators with For-Yield"
   ]
  },
  {
   "cell_type": "code",
   "execution_count": 50,
   "metadata": {},
   "outputs": [
    {
     "name": "stdout",
     "output_type": "stream",
     "text": [
      "<generator object generate_ints at 0x7fb27858e500>\n",
      "First Number 0\n",
      "Unpacking:  (1, 2, 3, 4, 5, 6, 7, 8, 9, 10, 11, 12, 13, 14, 15, 16, 17, 18, 19)\n",
      "0\n",
      "8\n",
      "6\n"
     ]
    }
   ],
   "source": [
    "# Generator example for-yield\n",
    "def generate_ints(N):\n",
    "   for i in range(N):\n",
    "       yield i\n",
    "       \n",
    "gen = generate_ints(20) # generator for produce numbers within 0-20\n",
    "print(gen)  \n",
    "print(\"First Number\", next(gen))\n",
    "\n",
    "# Unpacking all numbers with tuple (we can use also set, list etc.)\n",
    "t = tuple(gen)\n",
    "print(\"Unpacking: \", t)\n",
    "\n",
    "# Counter for-yield example\n",
    "def counter(maximum):\n",
    "    i = 0\n",
    "    while i < maximum:\n",
    "        val = (yield i)\n",
    "        # If value provided, change counter\n",
    "        if val is not None:\n",
    "            i = val\n",
    "        else:\n",
    "            i += 1\n",
    "         \n",
    "it = counter(10)  \n",
    "print(next(it))\n",
    "print(it.send(8))\n",
    "print(it.send(6))"
   ]
  }
 ],
 "metadata": {
  "kernelspec": {
   "display_name": "Python 3.10.6 64-bit",
   "language": "python",
   "name": "python3"
  },
  "language_info": {
   "codemirror_mode": {
    "name": "ipython",
    "version": 3
   },
   "file_extension": ".py",
   "mimetype": "text/x-python",
   "name": "python",
   "nbconvert_exporter": "python",
   "pygments_lexer": "ipython3",
   "version": "3.10.6"
  },
  "orig_nbformat": 4,
  "vscode": {
   "interpreter": {
    "hash": "916dbcbb3f70747c44a77c7bcd40155683ae19c65e1c03b4aa3499c5328201f1"
   }
  }
 },
 "nbformat": 4,
 "nbformat_minor": 2
}
